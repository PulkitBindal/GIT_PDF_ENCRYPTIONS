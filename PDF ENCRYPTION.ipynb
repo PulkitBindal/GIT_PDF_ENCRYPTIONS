{
 "cells": [
  {
   "cell_type": "code",
   "execution_count": 1,
   "id": "clinical-solid",
   "metadata": {},
   "outputs": [
    {
     "name": "stdout",
     "output_type": "stream",
     "text": [
      "Requirement already satisfied: PyPDF2 in c:\\users\\dell\\appdata\\local\\programs\\python\\python39\\lib\\site-packages (1.26.0)\n"
     ]
    }
   ],
   "source": [
    "!pip install PyPDF2"
   ]
  },
  {
   "cell_type": "code",
   "execution_count": 2,
   "id": "prompt-circumstances",
   "metadata": {},
   "outputs": [],
   "source": [
    "from PyPDF2 import PdfFileReader,PdfFileWriter"
   ]
  },
  {
   "cell_type": "code",
   "execution_count": 3,
   "id": "valued-minutes",
   "metadata": {},
   "outputs": [],
   "source": [
    "### open the current pdf\n",
    "file_pdf=PdfFileReader(\"How To Win Friends and Influence People ( PDFDrive ).pdf\")\n",
    "### Object for pdf writer\n",
    "out_pdf=PdfFileWriter()"
   ]
  },
  {
   "cell_type": "code",
   "execution_count": 4,
   "id": "velvet-decimal",
   "metadata": {},
   "outputs": [],
   "source": [
    "for i in range(file_pdf.numPages):\n",
    "    page_details=file_pdf.getPage(i)\n",
    "    ### Add to the output page\n",
    "    out_pdf.addPage(page_details)"
   ]
  },
  {
   "cell_type": "code",
   "execution_count": 5,
   "id": "romance-daily",
   "metadata": {},
   "outputs": [],
   "source": [
    "password=\"PULK2000\"\n",
    "\n",
    "out_pdf.encrypt(password)"
   ]
  },
  {
   "cell_type": "code",
   "execution_count": 6,
   "id": "paperback-acquisition",
   "metadata": {},
   "outputs": [],
   "source": [
    "with open(\"EncryptedFile.pdf\",\"wb\") as filename:\n",
    "    out_pdf.write(filename)"
   ]
  },
  {
   "cell_type": "code",
   "execution_count": null,
   "id": "loose-kenya",
   "metadata": {},
   "outputs": [],
   "source": []
  }
 ],
 "metadata": {
  "kernelspec": {
   "display_name": "Python 3",
   "language": "python",
   "name": "python3"
  },
  "language_info": {
   "codemirror_mode": {
    "name": "ipython",
    "version": 3
   },
   "file_extension": ".py",
   "mimetype": "text/x-python",
   "name": "python",
   "nbconvert_exporter": "python",
   "pygments_lexer": "ipython3",
   "version": "3.9.1"
  }
 },
 "nbformat": 4,
 "nbformat_minor": 5
}
